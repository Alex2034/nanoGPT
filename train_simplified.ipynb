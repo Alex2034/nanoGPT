{
 "cells": [
  {
   "cell_type": "markdown",
   "id": "a78a2074",
   "metadata": {},
   "source": [
    "#### This is a simplest training pipeline"
   ]
  },
  {
   "cell_type": "code",
   "execution_count": 17,
   "id": "22cb89d5",
   "metadata": {},
   "outputs": [
    {
     "name": "stdout",
     "output_type": "stream",
     "text": [
      "GPU name: Tesla V100-SXM2-16GB, gpu_id: 3\n",
      "number of parameters: 0.02M\n",
      "Entered Original mode\n",
      "Entered Original mode\n",
      "Entered Original mode\n",
      "Entered Original mode\n",
      "Entered Original mode\n",
      "Entered Original mode\n",
      "Epoch 10 completed in 0.28 seconds\n",
      "Epoch 20 completed in 0.27 seconds\n",
      "Epoch 30 completed in 0.27 seconds\n",
      "Epoch 40 completed in 0.25 seconds\n",
      "Epoch 50 completed in 0.23 seconds\n",
      "Epoch 60 completed in 0.29 seconds\n",
      "Epoch 70 completed in 0.25 seconds\n",
      "Epoch 80 completed in 0.25 seconds\n",
      "Epoch 90 completed in 0.23 seconds\n",
      "Epoch 100 completed in 0.26 seconds\n"
     ]
    }
   ],
   "source": [
    "import argparse\n",
    "import time\n",
    "import os\n",
    "import torch\n",
    "import torch.nn.functional as F\n",
    "import numpy as np\n",
    "from torch.utils.data import DataLoader, Dataset\n",
    "from model_hyperbolic import GPT, GPTConfig  \n",
    "import datetime\n",
    "\n",
    "if torch.cuda.is_available():\n",
    "    gpu_id = '3' # select a single GPU\n",
    "    # gpu_id = '2,3' # select multiple GPUs\n",
    "    os.environ[\"CUDA_VISIBLE_DEVICES\"] = str(gpu_id)\n",
    "    device = torch.device(\"cuda\")\n",
    "    print('GPU name: {:s}, gpu_id: {:s}'.format(torch.cuda.get_device_name(0),gpu_id))\n",
    "\n",
    "else:\n",
    "    device = torch.device(\"cpu\")\n",
    "    gpu_id = -1 # select CPU\n",
    "\n",
    "# Argument parsing\n",
    "# parser = argparse.ArgumentParser(description=\"Train nanoGPT on Tao Te Ching\")\n",
    "# parser.add_argument(\"--batch_size\", type=int, default=32, help=\"Batch size for training (default: 32)\")\n",
    "# parser.add_argument(\"--epochs\", type=int, default=10, help=\"Number of epochs to train (default: 10)\")\n",
    "# parser.add_argument(\"--learning_rate\", type=float, default=0.003, help=\"Learning rate (default: 0.003)\")\n",
    "# parser.add_argument(\"--block_size\", type=int, default=32, help=\"Context size (default: 32)\")\n",
    "# parser.add_argument(\"--n_embd\", type=int, default=16, help=\"Embedding dimension (default: 16)\")\n",
    "# parser.add_argument(\"--mode\", type=str, default='original', help=\"Attention mode (default: original)\")\n",
    "args = dict(n_layer=6, \n",
    "            epochs = 100,\n",
    "              n_head=8, \n",
    "              n_embd=16, \n",
    "              block_size=32, \n",
    "              batch_size=32, \n",
    "              bias=False, \n",
    "              dropout=0.0, \n",
    "              learning_rate=0.0003, \n",
    "              mode='original')\n",
    "\n",
    "# Dataset preparation\n",
    "class TaoTeChingDataset(Dataset):\n",
    "    def __init__(self, data, block_size):\n",
    "        chars = sorted(list(set(data)))\n",
    "        self.stoi = {ch: i for i, ch in enumerate(chars)}\n",
    "        self.itos = {i: ch for i, ch in enumerate(chars)}\n",
    "        self.block_size = block_size\n",
    "        self.data = [self.stoi[ch] for ch in data]\n",
    "        self.vocab_size = len(chars)\n",
    "\n",
    "    def __len__(self):\n",
    "        return len(self.data) - self.block_size\n",
    "\n",
    "    def __getitem__(self, idx):\n",
    "        chunk = self.data[idx:idx + self.block_size + 1]\n",
    "        dix = torch.tensor(chunk[:-1], dtype=torch.long)\n",
    "        target = torch.tensor(chunk[1:], dtype=torch.long)\n",
    "        return dix, target\n",
    "\n",
    "# FULL TAO DATASET\n",
    "\n",
    "# with open('data/tao.txt', 'r', encoding='utf-8') as f:\n",
    "#     full_data = f.read()\n",
    "# chars = sorted(list(set(full_data)))\n",
    "# full_dataset = TaoTeChingDataset(full_data, chars, block_size=args['block_size'])\n",
    "\n",
    "# split_idx = int(len(full_data) * 0.9)\n",
    "\n",
    "# train_dataset = TaoTeChingDataset(full_data[:split_idx], chars, block_size=args['block_size'])\n",
    "# val_dataset = TaoTeChingDataset(full_data[split_idx:], chars, block_size=args['block_size'])\n",
    "\n",
    "# train_loader = DataLoader(train_dataset, shuffle=True, batch_size=args['batch_size'])\n",
    "# val_loader = DataLoader(val_dataset, shuffle=False, batch_size=args['batch_size'])  \n",
    "\n",
    "\n",
    "# SMALL TAO DATASET\n",
    "\n",
    "with open('data/tao.txt', 'r', encoding='utf-8') as f:\n",
    "    data = f.read()\n",
    "    chars = sorted(list(set(data)))\n",
    "    overfit_data = data[17:301]\n",
    "    overfit_val_data = data[306:474]\n",
    "    \n",
    "overfit_dataset = TaoTeChingDataset(overfit_data, block_size=args.block_size)\n",
    "overfit_loader = DataLoader(overfit_dataset, batch_size=args.batch_size, shuffle=True)\n",
    "    \n",
    "overfit_val_dataset = TaoTeChingDataset(overfit_val_data, block_size=args.block_size)\n",
    "overfit_val_loader = DataLoader(overfit_val_dataset, batch_size=args.batch_size, shuffle=False)\n",
    "\n",
    "\n",
    "model_args = dict(n_layer=6, \n",
    "                  n_head=8, \n",
    "                  n_embd=16, \n",
    "                  block_size=args['block_size'], \n",
    "                  bias=False, \n",
    "                  vocab_size=full_dataset.vocab_size, \n",
    "                  dropout=0.0, \n",
    "                  mode=args['mode'])\n",
    "\n",
    "model = GPT(GPTConfig(**model_args)).to(device)\n",
    "optimizer = torch.optim.AdamW(model.parameters(), lr=args['learning_rate'])\n",
    "\n",
    "\n",
    "# Training loop\n",
    "def train(model, epoch, loader):\n",
    "    model.train()\n",
    "    train_loss = 0\n",
    "    for data, target in loader:\n",
    "        data, target = data.to(device), target.to(device)\n",
    "        optimizer.zero_grad()\n",
    "        _, loss = model(data, target)\n",
    "        loss.backward()\n",
    "        optimizer.step()\n",
    "        train_loss += loss.item()\n",
    "        \n",
    "#         if idx % 100 == 0:\n",
    "#             print(f\"Epoch: {epoch} | Loss: {loss.item()}\")\n",
    "    train_loss = train_loss/len(loader)\n",
    "    return train_loss\n",
    "        \n",
    "            \n",
    "def evaluate(model, epoch, loader):\n",
    "    model.eval()  \n",
    "    val_loss = 0\n",
    "    with torch.no_grad():  \n",
    "        for data, target in loader:\n",
    "            data, target = data.to(device), target.to(device)\n",
    "            _, loss = model(data, target)\n",
    "            val_loss += loss.item()  \n",
    "            \n",
    "    val_loss /= len(loader) \n",
    "    return val_loss\n",
    "\n",
    "def save_checkpoint(model, optimizer, model_args, train_losses, val_losses, out_dir, args):\n",
    "    os.makedirs(out_dir, exist_ok=True)\n",
    "    date_time_str = datetime.datetime.now().strftime(\"%m.%d, %H-%M\")\n",
    "    dim = args['n_embd']//args['n_head']\n",
    "    mode = args['mode']\n",
    "    filename = f\"{date_time_str}, {dim}-dim, {mode} ckpt.pt\"\n",
    "    checkpoint = {\n",
    "        'model': model.state_dict(),\n",
    "        'optimizer': optimizer.state_dict(),\n",
    "        'model_args': model_args,\n",
    "        'train_losses': train_losses,\n",
    "        'val_losses': val_losses,\n",
    "    }\n",
    "    torch.save(checkpoint, os.path.join(out_dir, filename))\n",
    "#     print(f\"Checkpoint saved to {filename}\")\n",
    "\n",
    "train_losses = []\n",
    "val_losses = []\n",
    "save_checkpoints = True\n",
    "out_dir = 'out'\n",
    "\n",
    "for epoch in range(1, args['epochs'] + 1):\n",
    "    start_time = time.time()\n",
    "    train_loss = train(model, epoch, overfit_loader)\n",
    "    train_losses.append(train_loss)\n",
    "\n",
    "    val_loss = evaluate(model, epoch, overfit_val_loader)\n",
    "    val_losses.append(val_loss)\n",
    "#     print(f\"Epoch: {epoch} | Training Loss: {train_loss} | Validation Loss: {val_loss}\")\n",
    "\n",
    "    # Conditionally save checkpoints\n",
    "    if save_checkpoints:\n",
    "        save_checkpoint(model, optimizer, model_args, train_losses, val_losses, out_dir, args)\n",
    "\n",
    "    end_time = time.time()\n",
    "    if epoch % 10 == 0:\n",
    "        print(f\"Epoch {epoch} completed in {end_time - start_time:.2f} seconds\")\n",
    "\n",
    "# print(overfit_val_data)"
   ]
  },
  {
   "cell_type": "markdown",
   "id": "a614e963",
   "metadata": {},
   "source": [
    "# Results "
   ]
  },
  {
   "cell_type": "code",
   "execution_count": 1,
   "id": "c83439a1",
   "metadata": {},
   "outputs": [],
   "source": [
    "import os\n",
    "import torch\n",
    "import numpy as np\n",
    "from torch.utils.data import DataLoader, Dataset\n",
    "from model_hyperbolic import GPT, GPTConfig  "
   ]
  },
  {
   "cell_type": "code",
   "execution_count": 18,
   "id": "71c57423",
   "metadata": {},
   "outputs": [
    {
     "name": "stdout",
     "output_type": "stream",
     "text": [
      "3. Who can (make) the muddy water (clear)?  Let it be still, and it\n",
      "will gradually become clear.  Who can secure the condition of rest?\n",
      "Let movement go on, and the condition of rest will gradually arise.\n",
      "\n",
      "4. They who preserve this method of the Tao do not wish to be full (of\n",
      "themselves).  It is through their not being full of themselves that\n",
      "they can afford to seem worn and not appear new and complete.\n",
      "\n",
      "\n",
      "16. 1. The (state of) vacancy should be brought to the utmost degree,\n",
      "and that of stillness guarded with unwearying vigour.  All things\n",
      "alike go through their processes of activity, and (then) we see them\n",
      "return (to their original state).  When things (in the vegetable\n",
      "world) have displayed their luxuriant growth, we see each of them\n",
      "return to its root.  This returning to their root is what we call the\n",
      "state of stillness; and that stillness may be called a reporting that\n",
      "they have fulfilled their appointed end.\n",
      "\n",
      "2. The report of that fulfilment is the regular, unchanging rule.  To\n",
      "know that unchanging rule is to be intelligent; not to know it leads\n",
      "to wild movements and evil issues.  The knowledge of that unchanging\n",
      "rule produces a (grand) capacity and forbearance, and that capacity\n",
      "and forbearance lead to a community (of feeling with all things).\n",
      "From this community of feeling comes a kingliness of character; and he\n",
      "who is king-like goes on to be heaven-like.  In that likeness to\n",
      "heaven he possesses the Tao.  Possessed of the Tao, he endures long;\n",
      "and to the end of his bodily life, is exempt from all danger of decay.\n",
      "\n",
      "\n",
      "17. 1. In the highest antiquity, (the people) did not know that there\n",
      "were (their rulers).  In the next age they loved them and praised\n",
      "them.  In the next they feared them; in the next they despised them.\n",
      "Thus it was that when faith (in the Tao) was deficient (in the rulers)\n",
      "a want of faith in them ensued (in the people).\n",
      "\n",
      "2. How irresolute did those (earliest rulers) appear, showing (by\n",
      "their reticence) the importance which they set upon their words!\n",
      "Their work was done and their undertakings were successful, while the\n",
      "people all said, 'We are as we are, of ourselves!'\n",
      "\n",
      "\n",
      "18. 1. When the Great Tao (Way or Method) ceased to be observed,\n",
      "benevolence and righteousness came into vogue.  (Then) appeared wisdom\n",
      "and shrewdness, and there ensued great hypocrisy.\n",
      "\n",
      "2. When harmony no longer prevailed throughout the six kinships,\n",
      "filial sons found their manifestation; when the states and clans fell\n",
      "into disorder, loyal ministers appeared.\n",
      "\n",
      "\n",
      "19. 1. If we could renounce our sageness and discard our wisdom, it\n",
      "would be better for the people a hundredfold.  If we could renounce\n",
      "our benevolence and discard our righteousness, the people would again\n",
      "become filial and kindly.  If we could renounce our artful\n",
      "contrivances and discard our (scheming for) gain, \n"
     ]
    }
   ],
   "source": [
    "with open('data/tao.txt', 'r', encoding='utf-8') as f:\n",
    "    data = f.read()\n",
    "    chars = sorted(list(set(data)))\n",
    "    small_data = data[14:10095]\n",
    "    small_val_data = data[10095:12900]\n",
    "    \n",
    "small_val_dataset = TaoTeChingDataset(small_val_data, block_size=128)\n",
    "itos = small_val_dataset.itos\n",
    "decode = lambda l: ''.join([itos[i] for i in l])\n",
    "print(decode(small_val_dataset.data))"
   ]
  },
  {
   "cell_type": "code",
   "execution_count": 2,
   "id": "309ea71e",
   "metadata": {},
   "outputs": [
    {
     "data": {
      "text/plain": [
       "['03.29, 23-00, 2-dim, hyperbolic, 100 epochs ckpt.pt',\n",
       " '03.29, 22-52, 2-dim, original, 100 epochs ckpt.pt']"
      ]
     },
     "execution_count": 2,
     "metadata": {},
     "output_type": "execute_result"
    }
   ],
   "source": [
    "files = [f for f in os.listdir('out/') if f.endswith('100 epochs ckpt.pt')]\n",
    "files"
   ]
  },
  {
   "cell_type": "code",
   "execution_count": 4,
   "id": "0f6f4659",
   "metadata": {},
   "outputs": [],
   "source": [
    "plots = []\n",
    "\n",
    "for file in files:\n",
    "    chkpt = torch.load('out/' + file)\n",
    "    mode = chkpt['model_args']['mode']\n",
    "    for name in ['train_losses', 'val_losses']:\n",
    "        plots.append((chkpt[name], name + ', ' + mode))"
   ]
  },
  {
   "cell_type": "code",
   "execution_count": 9,
   "id": "ff026be0",
   "metadata": {},
   "outputs": [
    {
     "data": {
      "image/png": "[encoded data removed]",
      "text/plain": [
       "<Figure size 1000x400 with 1 Axes>"
      ]
     },
     "metadata": {},
     "output_type": "display_data"
    }
   ],
   "source": [
    "import matplotlib.pyplot as plt\n",
    "plt.figure(figsize=(10, 4))\n",
    "for plot, name in plots[1::2]:\n",
    "    plt.plot(plot, label = name)\n",
    "plt.xlabel('Eval (10 epochs)')\n",
    "plt.ylabel('Loss')\n",
    "plt.title('Losses')\n",
    "plt.legend()\n",
    "# plt.savefig('out/small_val_losses.png')\n",
    "plt.show()"
   ]
  },
  {
   "cell_type": "code",
   "execution_count": 7,
   "id": "a8ea4177",
   "metadata": {},
   "outputs": [
    {
     "data": {
      "image/png": "[encoded data removed]",
      "text/plain": [
       "<Figure size 1000x400 with 1 Axes>"
      ]
     },
     "metadata": {},
     "output_type": "display_data"
    }
   ],
   "source": [
    "plt.figure(figsize=(10, 4))\n",
    "for plot, name in plots[::2]:\n",
    "    plt.plot(range(1500, 2000), plot[1500:], label = name)\n",
    "plt.xlabel('Epoch')\n",
    "plt.ylabel('Loss')\n",
    "plt.title('Losses')\n",
    "plt.legend()\n",
    "# plt.savefig('out/overfit_train_losses_end.png')\n",
    "plt.show()"
   ]
  },
  {
   "cell_type": "markdown",
   "id": "c5e049db",
   "metadata": {},
   "source": [
    "## Generating"
   ]
  },
  {
   "cell_type": "code",
   "execution_count": 3,
   "id": "68cdde7f",
   "metadata": {},
   "outputs": [],
   "source": [
    "class TaoTeChingDataset(Dataset):\n",
    "    def __init__(self, data, block_size):\n",
    "        chars = sorted(list(set(data)))\n",
    "        self.stoi = {ch: i for i, ch in enumerate(chars)}\n",
    "        self.itos = {i: ch for i, ch in enumerate(chars)}\n",
    "        self.block_size = block_size\n",
    "        self.data = [self.stoi[ch] for ch in data]\n",
    "        self.vocab_size = len(chars)\n",
    "\n",
    "    def __len__(self):\n",
    "        return len(self.data) - self.block_size\n",
    "\n",
    "    def __getitem__(self, idx):\n",
    "        chunk = self.data[idx:idx + self.block_size + 1]\n",
    "        dix = torch.tensor(chunk[:-1], dtype=torch.long)\n",
    "        target = torch.tensor(chunk[1:], dtype=torch.long)\n",
    "        return dix, target"
   ]
  },
  {
   "cell_type": "code",
   "execution_count": 4,
   "id": "7be36579",
   "metadata": {},
   "outputs": [],
   "source": [
    "with open('data/tao.txt', 'r', encoding='utf-8') as f:\n",
    "    data = f.read()\n",
    "    chars = sorted(list(set(data)))\n",
    "    normal_data = data[10:15768]\n",
    "#     overfit_val_data = data[306:474]\n",
    "\n",
    "normal_dataset = TaoTeChingDataset(normal_data, block_size=128)\n",
    "itos = normal_dataset.itos\n",
    "decode = lambda l: ''.join([itos[i] for i in l])\n",
    "# print('\\n\\nTrue\\n', decode(normal_dataset.data))"
   ]
  },
  {
   "cell_type": "code",
   "execution_count": 8,
   "id": "be4d3068",
   "metadata": {},
   "outputs": [
    {
     "name": "stdout",
     "output_type": "stream",
     "text": [
      "original:\n",
      "\n",
      " Ch. 1. 1. The Tao that can be trodden is not the eglof whe it) whal lin (is tha w (speNhe ndure\n",
      "weowetr a tsin plind the wonde p rausaf ut the cor.\n",
      "\n",
      "\n",
      "EUn m we sot ity whecaote lls.\n",
      "1.  Hoounce; w f lalthres ddears seids\n",
      "; 1. Thertoe,  an ore che y tss clofules tis\n",
      "ast as is ir) is wil ache ondey tor th (to (that hiow penducre\n",
      "fedowh icaf tounen ald me don che).\n",
      "\n",
      "2. Shin the wiwe l wheave thomp sunegh toulf\n",
      " a6.  5.\n",
      " Sof 1Lof adarsed cincong\n",
      "Qus; Thethost w; s55. Tivearited TarMe ge fee, we besUng\n",
      "3. Te I\n",
      " Tine Mhe spe atto ace. ' arin I\n",
      " Ino) h\n"
     ]
    }
   ],
   "source": [
    "chkpt = torch.load('out/' + files[0])\n",
    "model = GPT(GPTConfig(**chkpt['model_args']))\n",
    "model.load_state_dict(chkpt['model'])\n",
    "\n",
    "context = torch.tensor([normal_dataset.data[10:100]], dtype=torch.long)\n",
    "model.eval()\n",
    "out = model.generate(context, max_new_tokens=500)\n",
    "out = out[0].tolist()\n",
    "\n",
    "# with open('data/tao.txt', 'r', encoding='utf-8') as f:\n",
    "#     data = f.read()\n",
    "#     chars = sorted(list(set(data)))\n",
    "#     overfit_data = data[17:301]\n",
    "# #     overfit_val_data = data[306:474]\n",
    "\n",
    "# overfit_dataset = TaoTeChingDataset(overfit_data, block_size=32)\n",
    "# itos = overfit_dataset.itos\n",
    "# decode = lambda l: ''.join([itos[i] for i in l])\n",
    "print(chkpt['model_args']['mode']+':\\n\\n', decode(out))\n",
    "# print('\\n\\nTrue\\n', decode(overfit_dataset.data))"
   ]
  },
  {
   "cell_type": "code",
   "execution_count": 9,
   "id": "90d16465",
   "metadata": {},
   "outputs": [
    {
     "name": "stdout",
     "output_type": "stream",
     "text": [
      "number of parameters: 0.02M\n",
      "original:\n",
      "\n",
      " Ch. 1. 1. The Tao that can be trodden is not the ee oabe ved tysurer an tyedopin, t ois ar; an o\n",
      "vindot ad, itoren) wincit and acan an al bleiand iarse arWe conGle be g. aris\n",
      "hareitofveng. tor Whige ths aw Ut an nto cho o ono Hof cldoot w f-eshitsutt angal t\n",
      "tthese) ane and (wind (the thant alset to ano we.   mthe dam minaves io h wicth lo o is\n",
      "ther, altit ar; thad hect (iss are ing ot sitinco ar ben acios,\n",
      "ovech an, ghin ghang, weenos an-le) (of as cmendthis l ontheg\n",
      "fidonllated. y Tacrerd the mpulthenoy wecallounce out o), insene w phe grlred\n"
     ]
    }
   ],
   "source": [
    "chkpt = torch.load('out/' + files[1])\n",
    "model = GPT(GPTConfig(**chkpt['model_args']))\n",
    "model.load_state_dict(chkpt['model'])\n",
    "context = torch.tensor([normal_dataset.data[10:100]], dtype=torch.long)\n",
    "model.eval()\n",
    "out = model.generate(context, max_new_tokens=500)\n",
    "out = out[0].tolist()\n",
    "print(chkpt['model_args']['mode']+':\\n\\n', decode(out))"
   ]
  },
  {
   "cell_type": "markdown",
   "id": "7752d6f7",
   "metadata": {},
   "source": [
    "## Learned parameters"
   ]
  },
  {
   "cell_type": "code",
   "execution_count": 3,
   "id": "3c99e7ce",
   "metadata": {},
   "outputs": [
    {
     "name": "stdout",
     "output_type": "stream",
     "text": [
      "number of parameters: 0.02M\n",
      "Layer 1:\n",
      "  c: 1.291\n",
      "  p: 1.7\n",
      "Layer 2:\n",
      "  c: 0.974\n",
      "  p: 1.8\n",
      "Layer 3:\n",
      "  c: 1.102\n",
      "  p: 2.0\n",
      "Layer 4:\n",
      "  c: 0.864\n",
      "  p: 2.1\n",
      "Layer 5:\n",
      "  c: 1.293\n",
      "  p: 2.2\n",
      "Layer 6:\n",
      "  c: 1.399\n",
      "  p: 2.4\n"
     ]
    }
   ],
   "source": [
    "chkpt = torch.load('out/' + files[0])\n",
    "model = GPT(GPTConfig(**chkpt['model_args']))\n",
    "\n",
    "model.load_state_dict(chkpt['model'])\n",
    "\n",
    "for i, block in enumerate(model.transformer.h):\n",
    "    print(f\"Layer {i+1}:\")\n",
    "    if hasattr(block.attn, 'c'):\n",
    "        print(f\"  c: {block.attn.c.item():.3f}\")\n",
    "    else:\n",
    "        print(\"  c parameter not found.\")\n",
    "\n",
    "    if hasattr(block.attn, 'p'):\n",
    "        print(f\"  p: {block.attn.p.item():.1f}\")\n",
    "    else:\n",
    "        print(\"  p parameter not found.\")"
   ]
  },
  {
   "cell_type": "code",
   "execution_count": 1,
   "id": "2e46dbf4",
   "metadata": {},
   "outputs": [
    {
     "data": {
      "text/plain": [
       "0"
      ]
     },
     "execution_count": 1,
     "metadata": {},
     "output_type": "execute_result"
    }
   ],
   "source": [
    "2 % 1"
   ]
  },
  {
   "cell_type": "code",
   "execution_count": null,
   "id": "8423e9aa",
   "metadata": {},
   "outputs": [],
   "source": []
  }
 ],
 "metadata": {
  "kernelspec": {
   "display_name": "Python 3 (ipykernel)",
   "language": "python",
   "name": "python3"
  },
  "language_info": {
   "codemirror_mode": {
    "name": "ipython",
    "version": 3
   },
   "file_extension": ".py",
   "mimetype": "text/x-python",
   "name": "python",
   "nbconvert_exporter": "python",
   "pygments_lexer": "ipython3",
   "version": "3.10.12"
  }
 },
 "nbformat": 4,
 "nbformat_minor": 5
}
