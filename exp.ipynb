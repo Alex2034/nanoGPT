{
 "cells": [
  {
   "cell_type": "code",
   "execution_count": 2,
   "metadata": {},
   "outputs": [
    {
     "name": "stdout",
     "output_type": "stream",
     "text": [
      "number of parameters: 4.37M\n"
     ]
    },
    {
     "data": {
      "text/plain": [
       "<All keys matched successfully>"
      ]
     },
     "execution_count": 2,
     "metadata": {},
     "output_type": "execute_result"
    }
   ],
   "source": [
    "import torch\n",
    "import os\n",
    "from model_hyperbolic import GPTConfig, GPT\n",
    "\n",
    "checkpoint_path = os.path.join('/raid/out-tinystories', 'ckpt_hyperbolic.pt')\n",
    "# Load the checkpoint\n",
    "checkpoint = torch.load(checkpoint_path, map_location='cpu')\n",
    "\n",
    "# Load the model arguments from the checkpoint\n",
    "model_args = checkpoint['model_args']\n",
    "\n",
    "# Initialize the model with the loaded config\n",
    "gpt_config = GPTConfig(**model_args)\n",
    "model = GPT(gpt_config)\n",
    "\n",
    "# Load the model state dictionary\n",
    "state_dict = checkpoint['model']\n",
    "\n",
    "# Remove unwanted prefix if present\n",
    "unwanted_prefix = '_orig_mod.'\n",
    "for k in list(state_dict.keys()):\n",
    "    if k.startswith(unwanted_prefix):\n",
    "        state_dict[k[len(unwanted_prefix):]] = state_dict.pop(k)\n",
    "\n",
    "# Load state dict into the model\n",
    "model.load_state_dict(state_dict)"
   ]
  },
  {
   "cell_type": "code",
   "execution_count": 3,
   "metadata": {},
   "outputs": [
    {
     "data": {
      "text/plain": [
       "ModuleList(\n",
       "  (0-11): 12 x Block(\n",
       "    (ln_1): LayerNorm()\n",
       "    (attn): CausalSelfAttention(\n",
       "      (c_attn): Linear(in_features=72, out_features=216, bias=False)\n",
       "      (c_proj): Linear(in_features=72, out_features=72, bias=False)\n",
       "      (attn_dropout): Dropout(p=0.2, inplace=False)\n",
       "      (resid_dropout): Dropout(p=0.2, inplace=False)\n",
       "    )\n",
       "    (ln_2): LayerNorm()\n",
       "    (mlp): MLP(\n",
       "      (c_fc): Linear(in_features=72, out_features=288, bias=False)\n",
       "      (gelu): GELU(approximate='none')\n",
       "      (c_proj): Linear(in_features=288, out_features=72, bias=False)\n",
       "      (dropout): Dropout(p=0.2, inplace=False)\n",
       "    )\n",
       "  )\n",
       ")"
      ]
     },
     "execution_count": 3,
     "metadata": {},
     "output_type": "execute_result"
    }
   ],
   "source": [
    "model.transformer.h"
   ]
  },
  {
   "cell_type": "code",
   "execution_count": 14,
   "metadata": {},
   "outputs": [],
   "source": [
    "# Iterate through the layers and print the value of the 'c' parameter in hyperbolic mode\n",
    "for i, block in enumerate(model.transformer.h):\n",
    "    # if isinstance(block.attn, CausalSelfAttention) and block.attn.mode == 'hyperbolic':\n",
    "    # print(f\"Layer {i}: c = {block.attn.c.item():.3f}\")\n",
    "    qkv = block.attn.c_attn.weight\n",
    "    q, k, v = qkv.split(72)\n",
    "    break"
   ]
  },
  {
   "cell_type": "code",
   "execution_count": 20,
   "metadata": {},
   "outputs": [
    {
     "data": {
      "image/png": "[encoded data removed]",
      "text/plain": [
       "<Figure size 640x480 with 1 Axes>"
      ]
     },
     "metadata": {},
     "output_type": "display_data"
    }
   ],
   "source": [
    "import matplotlib.pyplot as plt\n",
    "plt.hist(qkv.flatten().detach().numpy(), bins=100)\n",
    "plt.show()"
   ]
  },
  {
   "cell_type": "code",
   "execution_count": 9,
   "metadata": {},
   "outputs": [
    {
     "name": "stdout",
     "output_type": "stream",
     "text": [
      "Name: ln_1.weight | Shape: torch.Size([72]) | Requires Grad: True\n",
      "Name: attn.c | Shape: torch.Size([]) | Requires Grad: True\n",
      "Name: attn.c_attn.weight | Shape: torch.Size([216, 72]) | Requires Grad: True\n",
      "Name: attn.c_proj.weight | Shape: torch.Size([72, 72]) | Requires Grad: True\n",
      "Name: ln_2.weight | Shape: torch.Size([72]) | Requires Grad: True\n",
      "Name: mlp.c_fc.weight | Shape: torch.Size([288, 72]) | Requires Grad: True\n",
      "Name: mlp.c_proj.weight | Shape: torch.Size([72, 288]) | Requires Grad: True\n"
     ]
    }
   ],
   "source": [
    "for i, block in enumerate(model.transformer.h):\n",
    "    for name, param in block.named_parameters():\n",
    "        print(f\"Name: {name} | Shape: {param.shape} | Requires Grad: {param.requires_grad}\")\n",
    "    break"
   ]
  },
  {
   "cell_type": "code",
   "execution_count": null,
   "metadata": {},
   "outputs": [],
   "source": []
  }
 ],
 "metadata": {
  "kernelspec": {
   "display_name": "Python 3",
   "language": "python",
   "name": "python3"
  },
  "language_info": {
   "codemirror_mode": {
    "name": "ipython",
    "version": 3
   },
   "file_extension": ".py",
   "mimetype": "text/x-python",
   "name": "python",
   "nbconvert_exporter": "python",
   "pygments_lexer": "ipython3",
   "version": "3.10.12"
  }
 },
 "nbformat": 4,
 "nbformat_minor": 2
}
